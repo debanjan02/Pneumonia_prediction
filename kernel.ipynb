{
  "cells": [
    {
      "metadata": {
        "_uuid": "8f2839f25d086af736a60e9eeb907d3b93b6e0e5",
        "_cell_guid": "b1076dfc-b9ad-4769-8c92-a6c4dae69d19",
        "trusted": true
      },
      "cell_type": "code",
      "source": "import numpy as np # linear algebra\nimport pandas as pd # data processing, CSV file I/O (e.g. pd.read_csv)\n\nimport os\nprint(os.listdir(\"../input/chest_xray/chest_xray/\"))\nfrom glob import glob\nfrom PIL import Image\n%matplotlib inline\nimport matplotlib.pyplot as plt\nimport cv2\nimport fnmatch\nimport keras\nfrom time import sleep\nfrom keras.utils import to_categorical\nfrom keras.models import Sequential\nfrom keras.layers import Dense,Conv2D,MaxPool2D,Dropout,Flatten,BatchNormalization,MaxPooling2D,Activation\nfrom keras.optimizers import RMSprop,Adam\nfrom tensorflow.keras.callbacks import EarlyStopping\nfrom keras import backend as k",
      "execution_count": null,
      "outputs": []
    },
    {
      "metadata": {
        "trusted": true,
        "_uuid": "45ddd30c390faf2d70df175526a4f19a7e15532f"
      },
      "cell_type": "code",
      "source": "print(os.listdir(\"../input/chest_xray/chest_xray/val/PNEUMONIA\"))",
      "execution_count": null,
      "outputs": []
    },
    {
      "metadata": {
        "trusted": true,
        "_uuid": "38a6922e56fd5a3c41054801b60167ba47ac4914"
      },
      "cell_type": "code",
      "source": "imagePatches = glob('../input/chest_xray/chest_xray/**/**/*.jpeg', recursive=True)\nprint(len(imagePatches))",
      "execution_count": null,
      "outputs": []
    },
    {
      "metadata": {
        "_cell_guid": "79c7e3d0-c299-4dcb-8224-4455121ee9b0",
        "_uuid": "d629ff2d2480ee46fbb7e2d37f6b5fab8052498a",
        "trusted": true
      },
      "cell_type": "code",
      "source": "pattern_normal = '*NORMAL*'\npattern_bacteria = '*_bacteria_*'\npattern_virus = '*_virus_*'\n\nnormal = fnmatch.filter(imagePatches, pattern_normal)\nbacteria = fnmatch.filter(imagePatches, pattern_bacteria)\nvirus = fnmatch.filter(imagePatches, pattern_virus)\nx = []\ny = []\nfor img in imagePatches:\n    full_size_image = cv2.imread(img)\n    im = cv2.resize(full_size_image, (224, 224), interpolation=cv2.INTER_CUBIC)\n    x.append(im)\n    if img in normal:\n        y.append(0)\n    elif img in bacteria:\n        y.append(1)\n    elif img in virus:\n        y.append(1)\n    else:\n        #break\n        print('no class')\nx = np.array(x)\ny = np.array(y)",
      "execution_count": null,
      "outputs": []
    },
    {
      "metadata": {
        "trusted": true,
        "_uuid": "ee826ecd962410d5293e0225a92ee58830f43e66",
        "_kg_hide-output": false
      },
      "cell_type": "code",
      "source": "from sklearn.model_selection import train_test_split\nx_train, x_valid, y_train, y_valid = train_test_split(x, y, test_size = 0.2, random_state = 101)\ny_train = to_categorical(y_train, num_classes = 2)\ny_valid = to_categorical(y_valid, num_classes = 2)\ndel x, y",
      "execution_count": null,
      "outputs": []
    },
    {
      "metadata": {
        "trusted": true,
        "_uuid": "b38f67f812fe630b2da3d7c12839366005020ab6"
      },
      "cell_type": "code",
      "source": "import keras\nfrom keras.models import Sequential,Input,Model\nfrom keras.layers import Conv2D, MaxPooling2D, MaxPooling1D, GlobalAveragePooling2D, Dense, Dropout, Flatten, Input, LSTM, TimeDistributed\nfrom keras.layers.normalization import BatchNormalization\nfrom keras.layers.advanced_activations import LeakyReLU \nmodel = Sequential()\nmodel.add(Conv2D(32,(7,7),activation='relu'))\nmodel.add(MaxPooling2D((2,2)))\nmodel.add(BatchNormalization())\nmodel.add(Dropout(0.15))\nmodel.add(Conv2D(64,(5,5),activation='relu'))\nmodel.add(MaxPooling2D((2,2)))\nmodel.add(BatchNormalization())\nmodel.add(Dropout(0.15))\nmodel.add(Conv2D(128,(3,3),activation='relu'))\nmodel.add(MaxPooling2D((2,2)))\nmodel.add(BatchNormalization())\nmodel.add(Dropout(0.15))\nmodel.add(Conv2D(128,(3,3),activation='relu'))\nmodel.add(MaxPooling2D((2,2)))\nmodel.add(BatchNormalization())\nmodel.add(Dropout(0.15))\nmodel.add(GlobalAveragePooling2D())\nmodel.add(Dense(1000, activation='relu'))\nmodel.add(Dense(2,activation='softmax'))\nmodel.compile(optimizer='adam', loss = 'categorical_crossentropy', metrics=['accuracy'])\n#model.summary()",
      "execution_count": null,
      "outputs": []
    },
    {
      "metadata": {
        "trusted": true,
        "_uuid": "6706d2b06e54044226392c2e1d8f63ac37550637",
        "scrolled": false
      },
      "cell_type": "code",
      "source": "from keras.callbacks import ModelCheckpoint\nmcp = ModelCheckpoint(filepath='model_check_path.hdf5',monitor=\"val_acc\", save_best_only=True, save_weights_only=False)\nhist = model.fit(x_train,y_train,batch_size = 32, epochs = 40, verbose=1,  validation_split=0.2, callbacks=[mcp])",
      "execution_count": null,
      "outputs": []
    },
    {
      "metadata": {
        "trusted": true,
        "_uuid": "1e5f4cd3553fb94b842b2ba6a2d4f3aa9569086c"
      },
      "cell_type": "code",
      "source": "fig = plt.figure()\nax = fig.add_subplot(111)\nax.set_facecolor('w')\nax.grid(b=False)\nax.plot(hist.history['acc'], color='red')\nax.plot(hist.history['val_acc'], color ='green')\nplt.title('model accuracy')\nplt.ylabel('accuracy')\nplt.xlabel('epoch')\nplt.legend(['train', 'test'], loc='lower right')\nplt.show()",
      "execution_count": null,
      "outputs": []
    },
    {
      "metadata": {
        "trusted": true,
        "_uuid": "9cb6bc80c694f5494e4ea40b31f35a2b53cad6c6"
      },
      "cell_type": "code",
      "source": "fig = plt.figure()\nax = fig.add_subplot(111)\nax.set_facecolor('w')\nax.grid(b=False)\nax.plot(hist.history['loss'], color='red')\nax.plot(hist.history['val_loss'], color ='green')\nplt.title('model loss')\nplt.ylabel('loss')\nplt.xlabel('epoch')\nplt.legend(['train', 'test'], loc='upper right')\nplt.show()",
      "execution_count": null,
      "outputs": []
    },
    {
      "metadata": {
        "trusted": true,
        "_uuid": "8892fc02a062cb08c5054896ce863f421e37b8cb"
      },
      "cell_type": "code",
      "source": "model.load_weights('model_check_path.hdf5')",
      "execution_count": null,
      "outputs": []
    },
    {
      "metadata": {
        "trusted": true,
        "scrolled": true,
        "_uuid": "b09f9826f928ad4190bd48d7b285ff8ff31447a5"
      },
      "cell_type": "code",
      "source": "from sklearn.metrics import classification_report\npred = model.predict(x_valid)\nprint(classification_report(np.argmax(y_valid, axis = 1),np.argmax(pred, axis = 1)))",
      "execution_count": null,
      "outputs": []
    },
    {
      "metadata": {
        "trusted": true,
        "_uuid": "5f5e7aec59148bf59fb0bdcaddb59c141435e5e9"
      },
      "cell_type": "code",
      "source": "def plot_confusion_matrix(cm,\n                          target_names,\n                          title='Confusion matrix',\n                          cmap=None,\n                          normalize=True):\n    import matplotlib.pyplot as plt\n    import numpy as np\n    import itertools\n\n    accuracy = np.trace(cm) / float(np.sum(cm))\n    misclass = 1 - accuracy\n\n    if cmap is None:\n        cmap = plt.get_cmap('Blues')\n\n    plt.figure(figsize=(8, 6))\n    plt.grid(b=False)\n    plt.imshow(cm, interpolation='nearest', cmap=cmap)\n    plt.title(title)\n    plt.colorbar()\n\n    if target_names is not None:\n        tick_marks = np.arange(len(target_names))\n        plt.xticks(tick_marks, target_names, rotation=45)\n        plt.yticks(tick_marks, target_names)\n    if normalize:\n        cm = cm.astype('float') / cm.sum(axis=1)[:, np.newaxis]\n\n\n    thresh = cm.max() / 1.5 if normalize else cm.max() / 2\n    for i, j in itertools.product(range(cm.shape[0]), range(cm.shape[1])):\n        if normalize:\n            plt.text(j, i, \"{:0.4f}\".format(cm[i, j]),\n                     horizontalalignment=\"center\",\n                     color=\"white\" if cm[i, j] > thresh else \"black\")\n        else:\n            plt.text(j, i, \"{:,}\".format(cm[i, j]),\n                     horizontalalignment=\"center\",\n                     color=\"white\" if cm[i, j] > thresh else \"black\")\n\n\n    plt.tight_layout()\n    plt.ylabel('True label')\n    plt.xlabel('Predicted label\\naccuracy={:0.4f}; misclass={:0.4f}'.format(accuracy, misclass))\n    plt.show()",
      "execution_count": null,
      "outputs": []
    },
    {
      "metadata": {
        "trusted": true,
        "_uuid": "972d94d667eef0ccd6e86261574abb16d3b44d47"
      },
      "cell_type": "code",
      "source": "\nfrom sklearn.metrics import confusion_matrix\ncm = confusion_matrix(np.argmax(y_valid, axis = 1),np.argmax(pred, axis = 1))\nplot_confusion_matrix(cm = cm,\n                      normalize    = False,\n                      cmap ='Reds',\n                      target_names = ['0','1'],\n                      title        = \"Confusion Matrix\")",
      "execution_count": null,
      "outputs": []
    }
  ],
  "metadata": {
    "kernelspec": {
      "display_name": "Python 3",
      "language": "python",
      "name": "python3"
    },
    "language_info": {
      "name": "python",
      "version": "3.6.6",
      "mimetype": "text/x-python",
      "codemirror_mode": {
        "name": "ipython",
        "version": 3
      },
      "pygments_lexer": "ipython3",
      "nbconvert_exporter": "python",
      "file_extension": ".py"
    }
  },
  "nbformat": 4,
  "nbformat_minor": 1
}